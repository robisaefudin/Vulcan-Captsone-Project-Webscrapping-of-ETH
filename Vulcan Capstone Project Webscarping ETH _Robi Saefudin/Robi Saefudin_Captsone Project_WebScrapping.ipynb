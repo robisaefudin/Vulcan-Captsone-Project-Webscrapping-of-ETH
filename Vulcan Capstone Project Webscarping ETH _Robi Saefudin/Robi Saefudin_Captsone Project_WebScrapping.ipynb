{
 "cells": [
  {
   "cell_type": "markdown",
   "metadata": {},
   "source": [
    "# Capstone Webscrapping using BeautifulSoup\n",
    "\n",
    "ROBISAEFUDIN\n",
    "\n",
    "In this particular module, we shall delve into the techniques involved in simple web scraping using the Beautiful Soup library. Web scraping is an effective method of gathering data from various online sources. In this module, we shall attempt to extract the Indonesian inflation rate data from pusatdata.kontan.co.id, which is a reliable data center associated with a leading Indonesian economic newspaper, offering a wealth of valuable financial information. To accomplish this task, we shall employ a handful of standard Python libraries in tandem with the Beautiful Soup library.\n",
    "\n",
    "This module has been designed to be accessible and user-friendly, making it an ideal resource for novice developers to learn the fundamentals of web scraping with Beautiful Soup. However, it is recommended that individuals have some basic understanding of `HTML` markup in order to fully comprehend the concepts presented in this module. The The documentation of [beautifulsoup](https://www.crummy.com/software/BeautifulSoup/bs4/doc) provides a brief introduction to `HTML` and a comprehensive overview of how Beautiful Soup operates, which may prove helpful for those seeking additional guidance.\n",
    "\n",
    "## background\n",
    "\n",
    "In this project, our objective is to extract the moving of the date and the volume  from the CoinGecko for Ethereum USD (Historical Data) . Ethereum USD refers to the price of Ethereum cryptocurrency denominated in US Dollars (USD).Like other cryptocurrencies, Ethereum's price is determined by supply and demand in the market, with the USD being one of the major fiat currencies used to trade Ethereum on various exchanges. The price of Ethereum, like other cryptocurrencies, can be highly volatile and subject to fluctuations in the market.\n",
    "\n",
    "Some may question why we need to extract data through web scraping, when it is already presented through well-designed visualizations on the website. To illustrate, let's assume that we are tasked with forecasting ETH's volume trading rate. To accomplish this, we require accurate and reliable data, and web scraping offers a valuable means of collecting data that is not readily available to the public.\n",
    "\n",
    "Our primary focus for web scraping will be to extract two crucial pieces of data from the Coingecko website. The data will be the Date, which is a measure of the day-over-day change in the price of trading (USD). \n",
    "\n",
    "## Requesting the Data and Creating a BeautifulSoup\n",
    "\n",
    "Let's begin with requesting the web from the site with `get` method."
   ]
  },
  {
   "cell_type": "code",
   "execution_count": 48,
   "metadata": {
    "ExecuteTime": {
     "end_time": "2020-01-13T05:12:23.275508Z",
     "start_time": "2020-01-13T05:12:20.009898Z"
    }
   },
   "outputs": [],
   "source": [
    "import requests\n",
    "\n",
    "url_get = requests.get('https://www.coingecko.com/en/coins/ethereum/historical_data?start_date=2022-01-01&end_date=2023-03-30#panel')"
   ]
  },
  {
   "cell_type": "markdown",
   "metadata": {},
   "source": [
    "To visualize what exactly you get from the `request.get`, we can use .content so ee what we exactly get, in here i slice it so it won't make our screen full of the html we get from the page. You can delete the slicing if you want to see what we fully get."
   ]
  },
  {
   "cell_type": "code",
   "execution_count": 49,
   "metadata": {
    "ExecuteTime": {
     "end_time": "2020-01-13T05:12:23.290648Z",
     "start_time": "2020-01-13T05:12:23.277650Z"
    },
    "scrolled": true
   },
   "outputs": [
    {
     "data": {
      "text/plain": [
       "b'!DOCTYPE html>\\n<html lang=\"en\">\\n<head>\\n<script src=\"/cdn-cgi/apps/head/gYtXOyllgyP3-Z2iKTP8rRWGBm4.js\"></script><script async defer src=\"https://www.googleoptimize.com/optimize.js?id=GTM-W3CD992\"></script>\\n<meta charset=\"utf-8\">\\n<meta http-equiv=\"X-UA-Compatible\" content=\"IE=edge\">\\n<meta name=\"viewport\" content=\"width=device-width, initial-scale=1.0\">\\n<link rel=\"shortcut icon\" href=\"/favicon.ico\">\\n<link type=\"application/opensearchdescription+xml\" rel=\"search\" href=\"/OpensearchDescription.xml\" '"
      ]
     },
     "execution_count": 49,
     "metadata": {},
     "output_type": "execute_result"
    }
   ],
   "source": [
    "url_get.content[1:500]"
   ]
  },
  {
   "cell_type": "markdown",
   "metadata": {},
   "source": [
    "As we can see we get a very unstructured and complex html, which actually contains the codes needed to show the webpages on your web browser. But we as human still confused what and where we can use that piece of code, so here where we use the beautifulsoup. Beautiful soup class will result a beautifulsoup object. Beautiful Soup transforms a complex HTML document into a complex tree of Python objects. \n",
    "\n",
    "Let's make Beautiful soup object and feel free to explore the object here."
   ]
  },
  {
   "cell_type": "code",
   "execution_count": 50,
   "metadata": {
    "ExecuteTime": {
     "end_time": "2020-01-13T05:12:23.808122Z",
     "start_time": "2020-01-13T05:12:23.292610Z"
    }
   },
   "outputs": [
    {
     "name": "stdout",
     "output_type": "stream",
     "text": [
      "<class 'bs4.BeautifulSoup'>\n"
     ]
    }
   ],
   "source": [
    "from bs4 import BeautifulSoup \n",
    "\n",
    "soup = BeautifulSoup(url_get.content,\"html.parser\")\n",
    "print(type(soup))"
   ]
  },
  {
   "cell_type": "code",
   "execution_count": 51,
   "metadata": {},
   "outputs": [
    {
     "name": "stdout",
     "output_type": "stream",
     "text": [
      "<!DOCTYPE html>\n",
      "<html lang=\"en\">\n",
      " <head>\n",
      "  <script src=\"/cdn-cgi/apps/head/gYtXOyllgyP3-Z2iKTP8rRWGBm4.js\">\n",
      "  </script>\n",
      "  <script async=\"\" defer=\"\" src=\"https://www.googleoptimize.com/optimize.js?id=GTM-W3CD992\">\n",
      "  </script>\n",
      "  <meta charset=\"utf-8\"/>\n",
      "  <meta content=\"IE=edge\" http-equiv=\"X-UA-Compatible\"/>\n",
      "  <meta content=\"width=device-width, initial-scale=1.0\" name=\"viewport\"/>\n",
      "  <link href=\"/favicon.ico\" rel=\"shortcut icon\"/>\n",
      "  <link href=\"/OpensearchDescription.xml\" rel=\"search\" type=\"applica\n"
     ]
    }
   ],
   "source": [
    "print(soup.prettify()[:500])"
   ]
  },
  {
   "cell_type": "markdown",
   "metadata": {},
   "source": [
    "## Finding the right key to scrap the data & Extracting the right information"
   ]
  },
  {
   "cell_type": "markdown",
   "metadata": {},
   "source": [
    "With our HTML code now in a cleaner and more organized format, our next step is to identify the specific lines or pieces of information that we wish to extract. Let us return to our webpage to proceed with this task\n",
    "<img src='assets/1.png'>\n",
    "\n",
    "Our focus lies on obtaining two key pieces of information from the website, namely the data from Date to Close Price, which are contained within the table. In order to identify the relevant code snippet for this table, we can simply move our cursor to the table, right-click on it, and select \"Inspect Element\". This will allow us to view the HTML code associated with the table and obtain the necessary information.\n",
    "<img src='assets/2.png'>\n",
    "\n",
    "From inspect element we know that we need to find the line table with class `baris-scroll`. We can use the find method at our beautifusoup object. Let's also call our object to see what we get. "
   ]
  },
  {
   "cell_type": "code",
   "execution_count": 52,
   "metadata": {},
   "outputs": [
    {
     "data": {
      "text/plain": [
       "<Response [200]>"
      ]
     },
     "execution_count": 52,
     "metadata": {},
     "output_type": "execute_result"
    }
   ],
   "source": [
    "#NOTE TAMBAHAN 1\n",
    "\n",
    "url_get #respon 02 artinya tidak bisa ditarik informasinya makanya error terus tabble perttify nya.\n",
    "\n",
    "#table.prettify itu jika error artinya tidak dapat menghasilkan informasi."
   ]
  },
  {
   "cell_type": "markdown",
   "metadata": {},
   "source": [
    "### Note Tambahan 1\n",
    "When attempting to run the command **\"print(table_body.prettify()[1:500])\"**, an error was consistently encountered, indicating that the \"prettify\" method or object could not be found (no information can be received). This error message said that the website being accessed had imposed certain restrictions.\n",
    "\n",
    "Further investigation by running \"url_get\" confirmed the presence of these restrictions, as the response returned was <Response [403]>. It means the website was put some restriction.\n",
    "\n",
    "To resolve this issue, it is recommended to install the \"requests==2.28.1\" package via PIP **\"pip install requests==2.28.1\"**. This installation will help to overcome the restrictions, as evidenced by the subsequent execution of \"url_get\", which returned a response of <Response [200]>, indicating that the restrictions had been lifted or in other words no restriction anymore."
   ]
  },
  {
   "cell_type": "code",
   "execution_count": 53,
   "metadata": {
    "ExecuteTime": {
     "end_time": "2020-01-13T05:12:23.878904Z",
     "start_time": "2020-01-13T05:12:23.854974Z"
    }
   },
   "outputs": [
    {
     "name": "stdout",
     "output_type": "stream",
     "text": [
      "tbody data-target=\"historical.tableBody\">\n",
      " <tr>\n",
      "  <th class=\"font-semibold text-center\" scope=\"row\">\n",
      "   2023-03-30\n",
      "  </th>\n",
      "  <td class=\"text-center\">\n",
      "   $216,268,184,817\n",
      "  </td>\n",
      "  <td class=\"text-center\">\n",
      "   $10,395,388,839\n",
      "  </td>\n",
      "  <td class=\"text-center\">\n",
      "   $1,795.54\n",
      "  </td>\n",
      "  <td class=\"text-center\">\n",
      "   N/A\n",
      "  </td>\n",
      " </tr>\n",
      " <tr>\n",
      "  <th class=\"font-semibold text-center\" scope=\"row\">\n",
      "   2023-03-29\n",
      "  </th>\n",
      "  <td class=\"text-center\">\n",
      "   $213,909,228,255\n",
      "  </td>\n",
      "  <td class=\"text-center\">\n",
      "   $9,5\n"
     ]
    }
   ],
   "source": [
    "# find the table body element\n",
    "table_body = soup.find('tbody', {'data-target': 'historical.tableBody'})\n",
    "print(table_body.prettify()[1:500])"
   ]
  },
  {
   "cell_type": "markdown",
   "metadata": {},
   "source": [
    "After extracting the relevant line of code, we have obtained all the necessary content. The ` tbody` is used to define a division or section in an HTML document, and can be easily styled using the class or id attribute. Any type of content can be included within a `tbody` tag.\n",
    "\n",
    "The find() function is particularly useful for obtaining specific parts of the HTML code. While most of the HTML is contained within `tbody` tags, you can differentiate between them using the `attrs=` attribute, which allows you to insert any attribute of the div tag to help locate the desired content.\n",
    "\n",
    "Now, we need all the infomation before we filter to the specific purpose. As you can read from the code above, date is contained within `tbody` with `text-center` for the data of the market cap untill close.\n",
    "\n",
    "Now I will introduce you to other useful function from beautiful soup, that's `find_all`. While the `find` fuction method is used for finding out the **first tag** with the specified name or id and returning an object of type bs4. The find_all method is used for finding out **all tags** with the specified tag name or id and returning them as a list of type bs4.\n"
   ]
  },
  {
   "cell_type": "markdown",
   "metadata": {},
   "source": [
    "For example I'll try to extract the first 5 data of date information from the html. You can use slicer to help you."
   ]
  },
  {
   "cell_type": "code",
   "execution_count": 54,
   "metadata": {},
   "outputs": [
    {
     "data": {
      "text/plain": [
       "[<th class=\"font-semibold text-center\" scope=\"row\">2023-03-30</th>,\n",
       " <th class=\"font-semibold text-center\" scope=\"row\">2023-03-29</th>,\n",
       " <th class=\"font-semibold text-center\" scope=\"row\">2023-03-28</th>,\n",
       " <th class=\"font-semibold text-center\" scope=\"row\">2023-03-27</th>,\n",
       " <th class=\"font-semibold text-center\" scope=\"row\">2023-03-26</th>]"
      ]
     },
     "execution_count": 54,
     "metadata": {},
     "output_type": "execute_result"
    }
   ],
   "source": [
    "table_body.find_all('th', attrs={'class': 'font-semibold text-center', 'scope': 'row'})[:5]"
   ]
  },
  {
   "cell_type": "markdown",
   "metadata": {},
   "source": [
    "### Extacting the Information\n",
    "Now all the `beautiful soup` part is over. All left to do is doing some programming to extract all the data automaticly, you can do this manualy at this part but if your data too long I advice you use loop. I'll show you how to make looping for extracting the data, but before that let's check how long is our data to help our looping process. Since `find_all` will always return data in format list, we will use `len()` to check how long is our list."
   ]
  },
  {
   "cell_type": "markdown",
   "metadata": {},
   "source": [
    "Finding row length."
   ]
  },
  {
   "cell_type": "code",
   "execution_count": 55,
   "metadata": {},
   "outputs": [
    {
     "data": {
      "text/plain": [
       "60"
      ]
     },
     "execution_count": 55,
     "metadata": {},
     "output_type": "execute_result"
    }
   ],
   "source": [
    "row = table_body.find_all('th', attrs={'class': 'font-semibold text-center', 'scope': 'row'})\n",
    "row_length = len(row)\n",
    "row_length"
   ]
  },
  {
   "cell_type": "markdown",
   "metadata": {},
   "source": [
    "Do the scrapping process by:\n",
    "\n",
    "- First we need to establish a placeholder to receive the information that we scrap.\n",
    "- We named our placeholder `output_rows` and it's a list.\n",
    "- Then we will make a loop through all rows in the table body, then since the code for all columns (but Date) were the same, we should make them seperated for each.\n",
    "- Then we will append it to our tuple that we prepared before, \n",
    "- every one iteration we will scrap one line of the table.  "
   ]
  },
  {
   "cell_type": "code",
   "execution_count": 56,
   "metadata": {
    "ExecuteTime": {
     "end_time": "2020-01-13T05:12:24.008256Z",
     "start_time": "2020-01-13T05:12:23.980358Z"
    }
   },
   "outputs": [
    {
     "name": "stdout",
     "output_type": "stream",
     "text": [
      "('2023-03-30', '$216,268,184,817', '$10,395,388,839', '$1,795.54', 'N/A')\n",
      "('2023-03-29', '$213,909,228,255', '$9,548,011,564', '$1,776.04', '$1,795.54')\n",
      "('2023-03-28', '$206,685,090,341', '$9,757,415,238', '$1,719.17', '$1,776.04')\n",
      "('2023-03-27', '$214,528,709,137', '$8,417,258,785', '$1,776.87', '$1,719.17')\n",
      "('2023-03-26', '$211,355,889,911', '$8,023,849,174', '$1,753.98', '$1,776.87')\n",
      "('2023-03-25', '$212,072,713,258', '$11,601,017,882', '$1,751.22', '$1,753.98')\n",
      "('2023-03-24', '$219,518,418,514', '$10,980,967,035', '$1,824.96', '$1,751.22')\n",
      "('2023-03-23', '$210,285,658,211', '$13,820,716,100', '$1,747.64', '$1,824.96')\n",
      "('2023-03-22', '$218,008,486,914', '$10,831,022,955', '$1,811.41', '$1,747.64')\n",
      "('2023-03-21', '$209,763,828,560', '$12,973,595,973', '$1,744.44', '$1,811.41')\n",
      "('2023-03-20', '$217,844,457,988', '$10,745,813,975', '$1,801.37', '$1,744.44')\n",
      "('2023-03-19', '$213,123,927,233', '$11,976,182,095', '$1,769.43', '$1,801.37')\n",
      "('2023-03-18', '$215,660,560,705', '$14,459,727,611', '$1,793.30', '$1,769.43')\n",
      "('2023-03-17', '$202,411,234,958', '$30,201,930,395', '$1,679.79', '$1,793.30')\n",
      "('2023-03-16', '$199,607,487,558', '$17,257,648,020', '$1,658.07', '$1,679.79')\n",
      "('2023-03-15', '$205,738,833,553', '$19,833,762,798', '$1,708.30', '$1,658.07')\n",
      "('2023-03-14', '$202,294,154,847', '$65,211,714,925', '$1,678.92', '$1,708.30')\n",
      "('2023-03-13', '$190,440,681,263', '$13,967,891,188', '$1,588.20', '$1,678.92')\n",
      "('2023-03-12', '$176,915,178,456', '$18,345,198,261', '$1,474.40', '$1,588.20')\n",
      "('2023-03-11', '$172,474,466,356', '$14,696,381,617', '$1,429.60', '$1,474.40')\n",
      "('2023-03-10', '$173,232,609,854', '$10,861,201,441', '$1,440.17', '$1,429.60')\n",
      "('2023-03-09', '$185,138,878,803', '$11,881,879,819', '$1,535.26', '$1,440.17')\n",
      "('2023-03-08', '$187,945,419,859', '$8,523,808,477', '$1,563.81', '$1,535.26')\n",
      "('2023-03-07', '$188,803,304,808', '$6,627,693,314', '$1,567.35', '$1,563.81')\n",
      "('2023-03-06', '$188,337,456,156', '$62,172,854,406', '$1,563.23', '$1,567.35')\n",
      "('2023-03-05', '$189,002,414,069', '$4,800,994,312', '$1,568.50', '$1,563.23')\n",
      "('2023-03-04', '$189,178,795,460', '$11,179,316,252', '$1,570.67', '$1,568.50')\n",
      "('2023-03-03', '$198,520,753,674', '$7,930,395,056', '$1,647.66', '$1,570.67')\n",
      "('2023-03-02', '$200,476,156,508', '$8,672,222,866', '$1,663.93', '$1,647.66')\n",
      "('2023-03-01', '$193,276,888,984', '$6,883,711,562', '$1,606.63', '$1,663.93')\n",
      "('2023-02-28', '$197,018,105,507', '$7,916,573,299', '$1,633.98', '$1,606.63')\n",
      "('2023-02-27', '$197,696,596,339', '$6,357,994,998', '$1,640.58', '$1,633.98')\n",
      "('2023-02-26', '$192,056,375,721', '$6,117,521,125', '$1,593.95', '$1,640.58')\n",
      "('2023-02-25', '$193,773,223,390', '$9,609,840,835', '$1,608.10', '$1,593.95')\n",
      "('2023-02-24', '$198,619,189,860', '$9,698,749,202', '$1,651.85', '$1,608.10')\n",
      "('2023-02-23', '$198,153,971,276', '$9,836,391,622', '$1,643.17', '$1,651.85')\n",
      "('2023-02-22', '$199,387,951,962', '$9,728,814,194', '$1,656.58', '$1,643.17')\n",
      "('2023-02-21', '$204,900,256,889', '$8,435,810,846', '$1,700.20', '$1,656.58')\n",
      "('2023-02-20', '$202,999,098,994', '$7,499,517,187', '$1,680.38', '$1,700.20')\n",
      "('2023-02-19', '$203,613,145,994', '$5,863,446,679', '$1,692.52', '$1,680.38')\n",
      "('2023-02-18', '$204,534,589,184', '$10,807,323,084', '$1,697.08', '$1,692.52')\n",
      "('2023-02-17', '$198,370,400,841', '$13,388,835,215', '$1,646.14', '$1,697.08')\n",
      "('2023-02-16', '$201,595,282,287', '$11,079,231,384', '$1,674.86', '$1,646.14')\n",
      "('2023-02-15', '$187,619,568,131', '$11,723,184,974', '$1,556.96', '$1,674.86')\n",
      "('2023-02-14', '$181,589,830,341', '$11,573,812,956', '$1,506.92', '$1,556.96')\n",
      "('2023-02-13', '$182,722,050,131', '$6,128,794,710', '$1,515.33', '$1,506.92')\n",
      "('2023-02-12', '$185,826,666,441', '$6,070,233,326', '$1,541.97', '$1,515.33')\n",
      "('2023-02-11', '$182,839,491,763', '$9,882,779,900', '$1,515.53', '$1,541.97')\n",
      "('2023-02-10', '$186,306,817,307', '$12,447,757,846', '$1,546.38', '$1,515.53')\n",
      "('2023-02-09', '$199,107,556,553', '$8,766,845,417', '$1,651.41', '$1,546.38')\n",
      "('2023-02-08', '$201,779,050,386', '$9,180,247,306', '$1,672.82', '$1,651.41')\n",
      "('2023-02-07', '$194,725,338,782', '$7,825,100,535', '$1,617.14', '$1,672.82')\n",
      "('2023-02-06', '$196,817,854,756', '$8,211,226,952', '$1,631.37', '$1,617.14')\n",
      "('2023-02-05', '$201,099,652,783', '$6,766,208,820', '$1,667.27', '$1,631.37')\n",
      "('2023-02-04', '$200,784,153,460', '$9,528,083,088', '$1,665.43', '$1,667.27')\n",
      "('2023-02-03', '$198,613,736,403', '$12,542,560,274', '$1,648.68', '$1,665.43')\n",
      "('2023-02-02', '$197,724,834,028', '$9,295,116,916', '$1,642.86', '$1,648.68')\n",
      "('2023-02-01', '$191,042,852,121', '$7,544,090,212', '$1,586.54', '$1,642.86')\n",
      "('2023-01-31', '$188,787,565,951', '$10,977,781,768', '$1,568.65', '$1,586.54')\n",
      "('2023-01-30', '$198,339,307,428', '$10,037,370,816', '$1,646.52', '$1,568.65')\n"
     ]
    }
   ],
   "source": [
    "output_rows = [] #init\n",
    "\n",
    "# loop through all rows in the table body\n",
    "for row in table_body.find_all('tr'):\n",
    "    \n",
    "    # extract the date from the first cell\n",
    "    date = row.find('th', {'class': 'font-semibold text-center', 'scope': 'row'}).text.strip()\n",
    "\n",
    "    # extract data from the remaining cells\n",
    "    data_cells = row.find_all('td', {'class': 'text-center'})\n",
    "    market_cap = data_cells[0].text.strip()    #diurutkan dari 0. Ini untuk kolom 2\n",
    "    volume = data_cells[1].text.strip()        # kolom 3\n",
    "    open_price = data_cells[2].text.strip()    #4\n",
    "    close_price = data_cells[3].text.strip()   #5\n",
    "\n",
    "    # add the output row to the list\n",
    "    output_rows.append((date, market_cap, volume, open_price, close_price))\n",
    "\n",
    "# print the output rows\n",
    "for row in output_rows:\n",
    "    print(row)\n",
    "\n",
    "    "
   ]
  },
  {
   "cell_type": "markdown",
   "metadata": {},
   "source": [
    "## Creating data frame & Data wrangling"
   ]
  },
  {
   "cell_type": "markdown",
   "metadata": {},
   "source": [
    "Put the array into dataframe"
   ]
  },
  {
   "cell_type": "code",
   "execution_count": 57,
   "metadata": {
    "ExecuteTime": {
     "end_time": "2020-01-13T05:12:41.517372Z",
     "start_time": "2020-01-13T05:12:29.130015Z"
    }
   },
   "outputs": [
    {
     "data": {
      "text/html": [
       "<div>\n",
       "<style scoped>\n",
       "    .dataframe tbody tr th:only-of-type {\n",
       "        vertical-align: middle;\n",
       "    }\n",
       "\n",
       "    .dataframe tbody tr th {\n",
       "        vertical-align: top;\n",
       "    }\n",
       "\n",
       "    .dataframe thead th {\n",
       "        text-align: right;\n",
       "    }\n",
       "</style>\n",
       "<table border=\"1\" class=\"dataframe\">\n",
       "  <thead>\n",
       "    <tr style=\"text-align: right;\">\n",
       "      <th></th>\n",
       "      <th>date</th>\n",
       "      <th>market_cap</th>\n",
       "      <th>volume</th>\n",
       "      <th>open_price</th>\n",
       "      <th>close_price</th>\n",
       "    </tr>\n",
       "  </thead>\n",
       "  <tbody>\n",
       "    <tr>\n",
       "      <th>0</th>\n",
       "      <td>2023-03-30</td>\n",
       "      <td>$216,268,184,817</td>\n",
       "      <td>$10,395,388,839</td>\n",
       "      <td>$1,795.54</td>\n",
       "      <td>N/A</td>\n",
       "    </tr>\n",
       "    <tr>\n",
       "      <th>1</th>\n",
       "      <td>2023-03-29</td>\n",
       "      <td>$213,909,228,255</td>\n",
       "      <td>$9,548,011,564</td>\n",
       "      <td>$1,776.04</td>\n",
       "      <td>$1,795.54</td>\n",
       "    </tr>\n",
       "    <tr>\n",
       "      <th>2</th>\n",
       "      <td>2023-03-28</td>\n",
       "      <td>$206,685,090,341</td>\n",
       "      <td>$9,757,415,238</td>\n",
       "      <td>$1,719.17</td>\n",
       "      <td>$1,776.04</td>\n",
       "    </tr>\n",
       "    <tr>\n",
       "      <th>3</th>\n",
       "      <td>2023-03-27</td>\n",
       "      <td>$214,528,709,137</td>\n",
       "      <td>$8,417,258,785</td>\n",
       "      <td>$1,776.87</td>\n",
       "      <td>$1,719.17</td>\n",
       "    </tr>\n",
       "    <tr>\n",
       "      <th>4</th>\n",
       "      <td>2023-03-26</td>\n",
       "      <td>$211,355,889,911</td>\n",
       "      <td>$8,023,849,174</td>\n",
       "      <td>$1,753.98</td>\n",
       "      <td>$1,776.87</td>\n",
       "    </tr>\n",
       "  </tbody>\n",
       "</table>\n",
       "</div>"
      ],
      "text/plain": [
       "         date        market_cap           volume open_price close_price\n",
       "0  2023-03-30  $216,268,184,817  $10,395,388,839  $1,795.54         N/A\n",
       "1  2023-03-29  $213,909,228,255   $9,548,011,564  $1,776.04   $1,795.54\n",
       "2  2023-03-28  $206,685,090,341   $9,757,415,238  $1,719.17   $1,776.04\n",
       "3  2023-03-27  $214,528,709,137   $8,417,258,785  $1,776.87   $1,719.17\n",
       "4  2023-03-26  $211,355,889,911   $8,023,849,174  $1,753.98   $1,776.87"
      ]
     },
     "execution_count": 57,
     "metadata": {},
     "output_type": "execute_result"
    }
   ],
   "source": [
    "import pandas as pd\n",
    "\n",
    "df =pd.DataFrame(output_rows, columns= ['date', 'market_cap', 'volume', 'open_price', 'close_price'])\n",
    "df.head()"
   ]
  },
  {
   "cell_type": "markdown",
   "metadata": {},
   "source": [
    "Let's check the data type for each column:"
   ]
  },
  {
   "cell_type": "code",
   "execution_count": 58,
   "metadata": {},
   "outputs": [
    {
     "name": "stdout",
     "output_type": "stream",
     "text": [
      "<class 'pandas.core.frame.DataFrame'>\n",
      "RangeIndex: 60 entries, 0 to 59\n",
      "Data columns (total 5 columns):\n",
      " #   Column       Non-Null Count  Dtype \n",
      "---  ------       --------------  ----- \n",
      " 0   date         60 non-null     object\n",
      " 1   market_cap   60 non-null     object\n",
      " 2   volume       60 non-null     object\n",
      " 3   open_price   60 non-null     object\n",
      " 4   close_price  60 non-null     object\n",
      "dtypes: object(5)\n",
      "memory usage: 2.5+ KB\n"
     ]
    }
   ],
   "source": [
    "df.info()"
   ]
  },
  {
   "cell_type": "markdown",
   "metadata": {},
   "source": [
    "**Now, we do the cleaning**"
   ]
  },
  {
   "cell_type": "markdown",
   "metadata": {},
   "source": [
    "As we can see that we need to change \n",
    "- `date` to 'datetime'\n",
    "- `market cup, volume, open_price, and close_price` to 'numeric'\n",
    "\n",
    "However, since the data consist of several characters such as '$' and ',' we should eliminate them then we can convert them to numeric.\n",
    "\n",
    "Before we do that, as we can see that the order of the date was reversed when we did `loop`. So, we can use sort_value by `date` then change the `date` to datetime and then do `.sex_index('date')`\n"
   ]
  },
  {
   "cell_type": "code",
   "execution_count": 59,
   "metadata": {},
   "outputs": [],
   "source": [
    "#change 'date' to DATETIME\n",
    "df['date'] = pd.to_datetime(df['date'])\n",
    "\n",
    "#sort value by 'date'\n",
    "df = df.sort_values(by='date')\n",
    "#do set index by 'date'\n",
    "df = df.set_index('date')"
   ]
  },
  {
   "cell_type": "markdown",
   "metadata": {},
   "source": [
    "Afterwards, we can focus on changing the others to the appropiate data types.\n",
    "In this case, that in `close_price` consisted of N/A. So we cannot change it to numeric before we could change it to number. \n",
    "However since it is not missing value, because when being checked, it said \"no missing value availble\", it means we can use replace for it. \n",
    "\n",
    "**Don't forget, to make it N/A as missing value then we can apply bfill, we have to import `numpy`**"
   ]
  },
  {
   "cell_type": "code",
   "execution_count": 60,
   "metadata": {},
   "outputs": [],
   "source": [
    "import numpy as np"
   ]
  },
  {
   "cell_type": "code",
   "execution_count": 61,
   "metadata": {},
   "outputs": [],
   "source": [
    "#check missing value on closing_price column\n",
    "df['close_price'].isna().sum()  #zero\n",
    "\n",
    "#we use replace as alternatives\n",
    "df['close_price'] = df['close_price'].replace('N/A', np.nan)\n",
    "\n",
    "#we can fill the missing value with bfill method\n",
    "df['close_price'] = df['close_price'].fillna(method='bfill')\n",
    "\n",
    "#afterwars, we can do replace to eliminate the unnecessary characters and transform those to numeric.\n",
    "df.replace('[\\$,]', '', regex=True, inplace=True)\n",
    "df = df.apply(pd.to_numeric)\n",
    "\n"
   ]
  },
  {
   "cell_type": "code",
   "execution_count": 62,
   "metadata": {},
   "outputs": [
    {
     "data": {
      "text/plain": [
       "market_cap       int64\n",
       "volume           int64\n",
       "open_price     float64\n",
       "close_price    float64\n",
       "dtype: object"
      ]
     },
     "execution_count": 62,
     "metadata": {},
     "output_type": "execute_result"
    }
   ],
   "source": [
    "#recheck the data types (either .info() or .dtypes)\n",
    "df.dtypes #all changed as it should be"
   ]
  },
  {
   "cell_type": "markdown",
   "metadata": {},
   "source": [
    "**Back to Question:**\n",
    " \n",
    "- Dari halaman tersebut carilah Date, dan Volume.\n",
    "- Buat lah plot pergerakan volume perdagangan dari Ethereum\n",
    "\n",
    "Setelah kita menyesuaikan semua jenis tipe datanya, kita bisa mengambil informasi yang dibutuhkan untuk analisis by filtering.\n"
   ]
  },
  {
   "cell_type": "code",
   "execution_count": 63,
   "metadata": {},
   "outputs": [
    {
     "data": {
      "text/plain": [
       "date\n",
       "2023-01-30    10037370816\n",
       "2023-01-31    10977781768\n",
       "2023-02-01     7544090212\n",
       "2023-02-02     9295116916\n",
       "2023-02-03    12542560274\n",
       "Name: volume, dtype: int64"
      ]
     },
     "execution_count": 63,
     "metadata": {},
     "output_type": "execute_result"
    }
   ],
   "source": [
    "volume = df['volume']\n",
    "volume.head()"
   ]
  },
  {
   "cell_type": "markdown",
   "metadata": {},
   "source": [
    "Data visualisation (please change this markdown with your explanation of what you do for data wrangling)"
   ]
  },
  {
   "cell_type": "code",
   "execution_count": 64,
   "metadata": {},
   "outputs": [
    {
     "name": "stdout",
     "output_type": "stream",
     "text": [
      "['Solarize_Light2', '_classic_test_patch', '_mpl-gallery', '_mpl-gallery-nogrid', 'bmh', 'classic', 'dark_background', 'fast', 'fivethirtyeight', 'ggplot', 'grayscale', 'seaborn', 'seaborn-bright', 'seaborn-colorblind', 'seaborn-dark', 'seaborn-dark-palette', 'seaborn-darkgrid', 'seaborn-deep', 'seaborn-muted', 'seaborn-notebook', 'seaborn-paper', 'seaborn-pastel', 'seaborn-poster', 'seaborn-talk', 'seaborn-ticks', 'seaborn-white', 'seaborn-whitegrid', 'tableau-colorblind10']\n"
     ]
    }
   ],
   "source": [
    "import matplotlib.pyplot as plt  #kita panggil matplotlib nya\n",
    "print(plt.style.available) #style apa yg tersedia"
   ]
  },
  {
   "cell_type": "code",
   "execution_count": 65,
   "metadata": {},
   "outputs": [
    {
     "data": {
      "text/plain": [
       "<AxesSubplot:xlabel='date'>"
      ]
     },
     "execution_count": 65,
     "metadata": {},
     "output_type": "execute_result"
    },
    {
     "data": {
      "image/png": "[encoded data removed]",
      "text/plain": [
       "<Figure size 640x480 with 1 Axes>"
      ]
     },
     "metadata": {},
     "output_type": "display_data"
    }
   ],
   "source": [
    "#we use line plot karena ini berkaitan dengan pergerakan waktu.\n",
    "volume.plot(kind='line')"
   ]
  },
  {
   "cell_type": "code",
   "execution_count": 66,
   "metadata": {},
   "outputs": [
    {
     "data": {
      "text/plain": [
       "<AxesSubplot:xlabel='date'>"
      ]
     },
     "execution_count": 66,
     "metadata": {},
     "output_type": "execute_result"
    },
    {
     "data": {
      "image/png": "[encoded data removed]",
      "text/plain": [
       "<Figure size 640x480 with 1 Axes>"
      ]
     },
     "metadata": {},
     "output_type": "display_data"
    }
   ],
   "source": [
    "#menggunakan data awal 'df' tapi kita copy saja buat incase error\n",
    "df2 = df.copy()\n",
    "Volume_mean = pd.pivot_table(\n",
    "    data = df2,\n",
    "    index ='date',\n",
    "    values = 'volume',\n",
    "    aggfunc = 'mean')\n",
    "\n",
    "Volume_mean.plot(kind='line')"
   ]
  },
  {
   "cell_type": "markdown",
   "metadata": {},
   "source": [
    "### Implementing your webscrapping to the flask dashboard\n",
    "\n",
    "- Copy paste all of your web scrapping process to the desired position on the `app.py`\n",
    "- Changing the title of the dasboard at `index.html`"
   ]
  },
  {
   "cell_type": "markdown",
   "metadata": {},
   "source": [
    "## Finishing This Notebook with Your Analysis and Conclusion\n",
    "\n",
    "First you can do start with making the data visualisation. "
   ]
  },
  {
   "cell_type": "code",
   "execution_count": 67,
   "metadata": {
    "ExecuteTime": {
     "end_time": "2020-01-13T05:20:56.208237Z",
     "start_time": "2020-01-13T05:20:56.076043Z"
    },
    "scrolled": true
   },
   "outputs": [
    {
     "data": {
      "text/plain": [
       "<AxesSubplot:xlabel='date'>"
      ]
     },
     "execution_count": 67,
     "metadata": {},
     "output_type": "execute_result"
    },
    {
     "data": {
      "image/png": "[encoded data removed]",
      "text/plain": [
       "<Figure size 640x480 with 1 Axes>"
      ]
     },
     "metadata": {},
     "output_type": "display_data"
    }
   ],
   "source": [
    "Volume_mean.plot(kind='line')"
   ]
  },
  {
   "cell_type": "markdown",
   "metadata": {},
   "source": [
    "After we did data wringgling and visualization,we can see the plot and make an analysis. As we can see taht March 14 has the highest volume for the last three months."
   ]
  },
  {
   "cell_type": "markdown",
   "metadata": {},
   "source": [
    "### Implement it at the webapps\n",
    "\n",
    "- You can create additional analysis from the data.\n",
    "- Implement it to the dashboard with at `app.py` dan `index.html`."
   ]
  }
 ],
 "metadata": {
  "kernelspec": {
   "display_name": "captsone_vulcan",
   "language": "python",
   "name": "captsone_vulcan"
  },
  "language_info": {
   "codemirror_mode": {
    "name": "ipython",
    "version": 3
   },
   "file_extension": ".py",
   "mimetype": "text/x-python",
   "name": "python",
   "nbconvert_exporter": "python",
   "pygments_lexer": "ipython3",
   "version": "3.10.10"
  },
  "toc": {
   "base_numbering": 1,
   "nav_menu": {},
   "number_sections": true,
   "sideBar": true,
   "skip_h1_title": false,
   "title_cell": "Table of Contents",
   "title_sidebar": "Contents",
   "toc_cell": false,
   "toc_position": {},
   "toc_section_display": true,
   "toc_window_display": false
  }
 },
 "nbformat": 4,
 "nbformat_minor": 2
}
